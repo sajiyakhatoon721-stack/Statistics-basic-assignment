{
  "nbformat": 4,
  "nbformat_minor": 0,
  "metadata": {
    "colab": {
      "provenance": []
    },
    "kernelspec": {
      "name": "python3",
      "display_name": "Python 3"
    },
    "language_info": {
      "name": "python"
    }
  },
  "cells": [
    {
      "cell_type": "markdown",
      "source": [
        "#Statistics Basic Assignment\n",
        "\n",
        "Q-1  What is the difference between descriptive statistics and inferential\n",
        "statistics? Explain with examples.\n",
        "\n",
        "->Descriptive statistics summarize and describe the main features of a dataset, often using measures like mean, median, mode, standard deviation, and range, as well as visualizations like histograms and box plots. They provide a snapshot of the data. Inferential statistics, on the other hand, use a sample of data to make inferences and draw conclusions about a larger population. This involves techniques like hypothesis testing, confidence intervals, and regression analysis.\n",
        "\n",
        "Examples:\n",
        "\n",
        "Descriptive Statistics: Calculating the average height of students in a classroom and displaying the distribution of heights with a histogram.\n",
        "Inferential Statistics: Taking a random sample of voters and using their opinions to predict the outcome of an election for the entire population.\n",
        "\n",
        "Q-2 What is sampling in statistics? Explain the differences between random\n",
        "and stratified sampling.\n",
        "-> Sampling in statistics is the process of selecting a representative subset of individuals or observations from a larger population. The goal is to study this subset (the sample) and make inferences about the entire population.\n",
        "\n",
        "Here's the difference between random and stratified sampling:\n",
        "\n",
        "1. Random Sampling: In simple random sampling, every member of the population has an equal chance of being selected for the sample. This is often done using random number generators or by drawing names from a hat. It's a straightforward method but doesn't guarantee representation of specific subgroups within the population.\n",
        "2. Stratified Sampling: Stratified sampling involves dividing the population into subgroups or strata based on shared characteristics (e.g., age, gender, income). Then, a random sample is drawn from each stratum in proportion to its size in the population. This method ensures that key subgroups are represented in the sample, making it more representative of the population as a whole, especially when those subgroups are relevant to the study.\n",
        "\n",
        "Q- 3 Define mean, median, and mode. Explain why these measures of central\n",
        "tendency are important.\n",
        "\n",
        "-> The mean, median, and mode are measures of central tendency, which are used to describe the center point of a dataset.\n",
        "\n",
        "Mean: The mean (or average) is calculated by summing all the values in a dataset and dividing by the number of values. It is sensitive to extreme values (outliers).\n",
        "Median: The median is the middle value in a dataset that has been ordered from least to greatest. If there is an even number of values, the median is the average of the two middle values. The median is less affected by outliers than the mean.\n",
        "Mode: The mode is the value that appears most frequently in a dataset. A dataset can have one mode (unimodal), more than one mode (multimodal), or no mode.\n",
        "\n",
        "Q-4 Explain skewness and kurtosis. What does a positive skew imply about the\n",
        "data?\n",
        "-> Skewness and kurtosis are measures that describe the shape of a probability distribution.\n",
        "\n",
        "1. Skewness: Skewness measures the asymmetry of the probability distribution of a real-valued random variable about its mean. A distribution is skewed if it is not symmetric.\n",
        "  * Positive skew (right-skewed): The tail on the right side of the distribution is longer or fatter than the tail on the left side. This means there are more extreme values on the higher end of the data. The mean is typically greater than the median in a positively skewed distribution.\n",
        "  * Negative skew (left-skewed): The tail on the left side of the distribution is longer or fatter than the tail on the right side. This means there are more extreme values on the lower end of the data. The mean is typically less than the median in a negatively skewed distribution.\n",
        "  * Zero skew: The distribution is symmetric. The mean and median are typically equal in a perfectly symmetric distribution.\n",
        "2. Kurtosis: Kurtosis measures the \"tailedness\" of the probability distribution of a real-valued random variable. It describes how much of the distribution is in the tails compared to the center.\n",
        "  * Leptokurtic (high kurtosis): The distribution has fatter tails and a sharper peak than a normal distribution. This indicates a higher probability of extreme values.\n",
        "  * Mesokurtic (medium kurtosis): The distribution has the same kurtosis as a normal distribution.\n",
        "  * Platykurtic (low kurtosis): The distribution has thinner tails and a flatter peak than a normal distribution. This indicates a lower probability of extreme values.\n",
        "\n",
        "What does a positive skew imply about the data?\n",
        "A positive skew implies that the data is skewed to the right. This means that the tail of the distribution is longer on the right side, indicating that there are more extreme values on the higher end of the data. In a positively skewed distribution, the mean is typically greater than the median because the extreme high values pull the mean towards the right.\n",
        "\n",
        "Q-5 Implement a Python program to compute the mean, median, and mode of\n",
        "a given list of numbers.\n",
        "numbers = [12, 15, 12, 18, 19, 12, 20, 22, 19, 19, 24, 24, 24, 26, 28]\n",
        "\n",
        "\n",
        "\n"
      ],
      "metadata": {
        "id": "k1cmrwJ4FpV_"
      }
    },
    {
      "cell_type": "code",
      "source": [
        "\n",
        "import statistics\n",
        "\n",
        "# Given list of numbers\n",
        "numbers = [12, 15, 12, 18, 19, 12, 20, 22, 19, 19, 24, 24, 24, 26, 28]\n",
        "\n",
        "# Compute Mean\n",
        "mean_value = statistics.mean(numbers)\n",
        "\n",
        "# Compute Median\n",
        "median_value = statistics.median(numbers)\n",
        "\n",
        "# Compute Mode\n",
        "mode_value = statistics.mode(numbers)\n",
        "\n",
        "# Display results\n",
        "print(\"Mean:\", mean_value)\n",
        "print(\"Median:\", median_value)\n",
        "print(\"Mode:\", mode_value)\n"
      ],
      "metadata": {
        "colab": {
          "base_uri": "https://localhost:8080/"
        },
        "id": "qofUPEzSIk75",
        "outputId": "1b90264d-1ccf-4768-b97d-8b7a90025ad1"
      },
      "execution_count": null,
      "outputs": [
        {
          "output_type": "stream",
          "name": "stdout",
          "text": [
            "Mean: 19.6\n",
            "Median: 19\n",
            "Mode: 12\n"
          ]
        }
      ]
    },
    {
      "cell_type": "markdown",
      "source": [
        "Q-6  Compute the covariance and correlation coefficient between the following\n",
        "two datasets provided as lists in Python:\n",
        "list_x = [10, 20, 30, 40, 50]\n",
        "list_y = [15, 25, 35, 45, 60]"
      ],
      "metadata": {
        "id": "XMd6eqgoJ_-u"
      }
    },
    {
      "cell_type": "code",
      "metadata": {
        "colab": {
          "base_uri": "https://localhost:8080/"
        },
        "id": "2ad9cf90",
        "outputId": "786cfb31-2cd5-4dc6-8432-fd171f893560"
      },
      "source": [
        "import numpy as np\n",
        "\n",
        "list_x = [10, 20, 30, 40, 50]\n",
        "list_y = [15, 25, 35, 45, 60]\n",
        "\n",
        "# Compute Covariance\n",
        "covariance = np.cov(list_x, list_y)[0][1]\n",
        "\n",
        "# Compute Correlation Coefficient\n",
        "correlation_coefficient = np.corrcoef(list_x, list_y)[0][1]\n",
        "\n",
        "print(f\"Covariance between list_x and list_y: {covariance}\")\n",
        "print(f\"Correlation coefficient between list_x and list_y: {correlation_coefficient}\")"
      ],
      "execution_count": null,
      "outputs": [
        {
          "output_type": "stream",
          "name": "stdout",
          "text": [
            "Covariance between list_x and list_y: 275.0\n",
            "Correlation coefficient between list_x and list_y: 0.995893206467704\n"
          ]
        }
      ]
    },
    {
      "cell_type": "markdown",
      "source": [
        "Q-7 Write a Python script to draw a boxplot for the following numeric list and\n",
        "identify its outliers. Explain the result:\n",
        "data = [12, 14, 14, 15, 18, 19, 19, 21, 22, 22, 23, 23, 24, 26, 29, 35]"
      ],
      "metadata": {
        "id": "vMM-AmppJBIw"
      }
    },
    {
      "cell_type": "code",
      "metadata": {
        "colab": {
          "base_uri": "https://localhost:8080/",
          "height": 564
        },
        "id": "655a9a60",
        "outputId": "2ad5fa3e-4a1d-4190-80e3-c7b65ec31b80"
      },
      "source": [
        "import matplotlib.pyplot as plt\n",
        "import seaborn as sns\n",
        "import pandas as pd\n",
        "\n",
        "data = [12, 14, 14, 15, 18, 19, 19, 21, 22, 22, 23, 23, 24, 26, 29, 35]\n",
        "\n",
        "# Create a pandas Series for easier plotting\n",
        "data_series = pd.Series(data)\n",
        "\n",
        "# Create a boxplot\n",
        "plt.figure(figsize=(8, 6))\n",
        "sns.boxplot(x=data_series)\n",
        "plt.title('Boxplot of Data')\n",
        "plt.xlabel('Values')\n",
        "plt.show()"
      ],
      "execution_count": null,
      "outputs": [
        {
          "output_type": "display_data",
          "data": {
            "text/plain": [
              "<Figure size 800x600 with 1 Axes>"
            ],
            "image/png": "[encoded data removed]"
          },
          "metadata": {}
        }
      ]
    },
    {
      "cell_type": "markdown",
      "source": [
        "Q-8 You are working as a data analyst in an e-commerce company. The\n",
        "marketing team wants to know if there is a relationship between advertising spend and\n",
        "daily sales.\n",
        "\n",
        "● Explain how you would use covariance and correlation to explore this\n",
        "relationship.\n",
        "● Write Python code to compute the correlation between the two lists:\n",
        "\n",
        "advertising_spend = [200, 250, 300, 400, 500]   \n",
        "daily_sales = [2200, 2450, 2750, 3200, 4000]"
      ],
      "metadata": {
        "id": "ruH0XwNxKnI0"
      }
    },
    {
      "cell_type": "markdown",
      "metadata": {
        "id": "9815387a"
      },
      "source": [
        "**Using Covariance and Correlation to Explore the Relationship between Advertising Spend and Daily Sales:**\n",
        "\n",
        "In this scenario, covariance and correlation are valuable statistical tools to understand the relationship between advertising spend and daily sales.\n",
        "\n",
        "*   **Covariance:** Covariance measures the extent to which two variables change together. A positive covariance indicates that as one variable increases, the other tends to increase as well. A negative covariance suggests that as one variable increases, the other tends to decrease. A covariance close to zero implies a weak linear relationship. The magnitude of the covariance is not easily interpretable on its own, as it is affected by the units of the variables.\n",
        "\n",
        "*   **Correlation:** Correlation, specifically the Pearson correlation coefficient, is a standardized measure of the linear relationship between two variables. It ranges from -1 to +1.\n",
        "    *   A correlation coefficient of +1 indicates a perfect positive linear relationship (as advertising spend increases, daily sales increase proportionally).\n",
        "    *   A correlation coefficient of -1 indicates a perfect negative linear relationship (as advertising spend increases, daily sales decrease proportionally).\n",
        "    *   A correlation coefficient of 0 indicates no linear relationship.\n",
        "\n",
        "In the context of advertising spend and daily sales:\n",
        "\n",
        "*   A **positive covariance** would suggest that higher advertising spend is associated with higher daily sales.\n",
        "*   A **positive correlation coefficient** close to +1 would indicate a strong positive linear relationship, meaning that increases in advertising spend are strongly associated with predictable increases in daily sales.\n",
        "*   A **correlation coefficient close to 0** would suggest that there is no significant linear relationship between advertising spend and daily sales.\n",
        "\n",
        "By calculating both covariance and correlation, you can get a better understanding of the direction and strength of the linear relationship between these two variables. Correlation is often preferred because its standardized value makes it easier to interpret and compare across different datasets."
      ]
    },
    {
      "cell_type": "code",
      "metadata": {
        "colab": {
          "base_uri": "https://localhost:8080/"
        },
        "id": "362489ec",
        "outputId": "107fb7f1-28da-42d1-96e3-60d2b870d6ae"
      },
      "source": [
        "import numpy as np\n",
        "\n",
        "advertising_spend = [200, 250, 300, 400, 500]\n",
        "daily_sales = [2200, 2450, 2750, 3200, 4000]\n",
        "\n",
        "# Compute Correlation Coefficient\n",
        "correlation_coefficient = np.corrcoef(advertising_spend, daily_sales)[0][1]\n",
        "\n",
        "print(f\"Correlation coefficient between advertising spend and daily sales: {correlation_coefficient}\")"
      ],
      "execution_count": null,
      "outputs": [
        {
          "output_type": "stream",
          "name": "stdout",
          "text": [
            "Correlation coefficient between advertising spend and daily sales: 0.9935824101653329\n"
          ]
        }
      ]
    },
    {
      "cell_type": "markdown",
      "source": [
        "Q-9  Your team has collected customer satisfaction survey data on a scale of\n",
        "1-10 and wants to understand its distribution before launching a new product.\n",
        "\n",
        "● Explain which summary statistics and visualizations (e.g. mean, standard\n",
        "deviation, histogram) you’d use.\n",
        "\n",
        "● Write Python code to create a histogram using Matplotlib for the survey data:\n",
        "\n",
        "survey_scores = [7, 8, 5, 9, 6, 7, 8, 9, 10, 4, 7, 6, 9, 8, 7]"
      ],
      "metadata": {
        "id": "BQxbm9DxLwBM"
      }
    },
    {
      "cell_type": "markdown",
      "metadata": {
        "id": "b03ccb5e"
      },
      "source": [
        "**Analyzing Customer Satisfaction Survey Data:**\n",
        "\n",
        "To understand the distribution of customer satisfaction survey data collected on a scale of 1-10, you can use a combination of summary statistics and visualizations.\n",
        "\n",
        "**Summary Statistics:**\n",
        "\n",
        "*   **Mean:** The average satisfaction score provides a single number representing the typical satisfaction level.\n",
        "*   **Median:** The median satisfaction score represents the middle value when the scores are ordered. This is useful as it is less affected by extreme scores (outliers) compared to the mean.\n",
        "*   **Mode:** The mode indicates the most frequent satisfaction score. This can tell you which score was given by the largest number of customers.\n",
        "*   **Standard Deviation:** The standard deviation measures the spread or variability of the satisfaction scores around the mean. A higher standard deviation indicates a wider range of responses, while a lower standard deviation suggests that scores are clustered closer to the mean.\n",
        "*   **Percentiles/Quartiles:** Calculating percentiles (e.g., 25th, 50th, 75th) can give you a better understanding of the distribution of scores and identify the range within which a certain percentage of responses fall. The 25th percentile is the first quartile (Q1), the 50th is the median, and the 75th is the third quartile (Q3).\n",
        "\n",
        "**Visualizations:**\n",
        "\n",
        "*   **Histogram:** A histogram is an excellent visualization for understanding the distribution of continuous or ordinal data like survey scores. It shows the frequency of each score (or ranges of scores) and helps you visualize the shape of the distribution (e.g., symmetric, skewed).\n",
        "*   **Boxplot:** A boxplot provides a visual summary of the five-number summary (minimum, Q1, median, Q3, maximum) and helps identify potential outliers in the data.\n",
        "*   **Bar Chart:** While a histogram is more appropriate for continuous data, a bar chart can also be used to show the frequency of each distinct score on the 1-10 scale.\n",
        "\n",
        "By using these summary statistics and visualizations, you can gain valuable insights into how satisfied your customers are, the typical satisfaction level, the variability in responses, and identify any potential areas of concern (e.g., a bimodal distribution suggesting two distinct groups of customers)."
      ]
    },
    {
      "cell_type": "code",
      "metadata": {
        "colab": {
          "base_uri": "https://localhost:8080/",
          "height": 564
        },
        "id": "953ceab4",
        "outputId": "24414c50-56f4-41f1-e87a-37a8fa1b66ee"
      },
      "source": [
        "import matplotlib.pyplot as plt\n",
        "\n",
        "survey_scores = [7, 8, 5, 9, 6, 7, 8, 9, 10, 4, 7, 6, 9, 8, 7]\n",
        "\n",
        "# Create a histogram\n",
        "plt.figure(figsize=(8, 6))\n",
        "plt.hist(survey_scores, bins=range(4, 12), align='left', rwidth=0.8, color='skyblue', edgecolor='black')\n",
        "plt.xticks(range(4, 11))\n",
        "plt.title('Distribution of Customer Satisfaction Survey Scores')\n",
        "plt.xlabel('Satisfaction Score (1-10)')\n",
        "plt.ylabel('Frequency')\n",
        "plt.grid(axis='y', alpha=0.75)\n",
        "plt.show()"
      ],
      "execution_count": null,
      "outputs": [
        {
          "output_type": "display_data",
          "data": {
            "text/plain": [
              "<Figure size 800x600 with 1 Axes>"
            ],
            "image/png": "[encoded data removed]"
          },
          "metadata": {}
        }
      ]
    }
  ]
}